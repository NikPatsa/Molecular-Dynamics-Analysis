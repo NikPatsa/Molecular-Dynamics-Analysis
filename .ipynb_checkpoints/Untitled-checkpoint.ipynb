{
 "cells": [
  {
   "cell_type": "markdown",
   "id": "f7b91f11",
   "metadata": {},
   "source": [
    "# Molecular Dynamics Analysis Tool\n",
    "## A tutorial for analysing molecular trajectories of complex systems using a python module\n",
    "#### Author: Nikolaos Patsalidis"
   ]
  },
  {
   "cell_type": "markdown",
   "id": "a6e3d302",
   "metadata": {},
   "source": [
    "## Abstract"
   ]
  },
  {
   "cell_type": "markdown",
   "id": "3e0e41d1",
   "metadata": {},
   "source": [
    "This python module was developed to be a tool, which can facilitate research in the field of molecular dynamics of complex systems. It was developed and it is still be upgraded for maintaining the following objectives \n",
    "\n",
    "1)  Modularity / Generality <\\b>\n",
    "\n",
    "2)  Efficiency\n",
    "\n",
    "3)  user friendlyness \n",
    "    \n",
    "The module is used by writing very small scripts in python, which usually includes creating an analysis object giving the system's details and then simply calling a function to calculate the property of interest. The returned data can be stored in a text format or be plot directly using for example matplotlib. By the time this notebook is written there are already 14 examples of how to use the algorithm. Here we will give less examples but more like in a tutorial way.\n",
    "\n",
    "### Let's begin thisturorial\n",
    "  "
   ]
  },
  {
   "cell_type": "markdown",
   "id": "3c757425",
   "metadata": {},
   "source": [
    "## Creating an analysis object and reading the trajectory\n",
    "### Gromacs trajectories"
   ]
  },
  {
   "cell_type": "code",
   "execution_count": null,
   "id": "665422db",
   "metadata": {},
   "outputs": [],
   "source": []
  }
 ],
 "metadata": {
  "kernelspec": {
   "display_name": "Python 3",
   "language": "python",
   "name": "python3"
  },
  "language_info": {
   "codemirror_mode": {
    "name": "ipython",
    "version": 3
   },
   "file_extension": ".py",
   "mimetype": "text/x-python",
   "name": "python",
   "nbconvert_exporter": "python",
   "pygments_lexer": "ipython3",
   "version": "3.8.8"
  }
 },
 "nbformat": 4,
 "nbformat_minor": 5
}
